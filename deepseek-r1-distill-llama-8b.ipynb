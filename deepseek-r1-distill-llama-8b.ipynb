{
 "cells": [
  {
   "cell_type": "code",
   "execution_count": 1,
   "id": "2361f163-62bb-408e-9960-a62265414968",
   "metadata": {},
   "outputs": [
    {
     "data": {
      "application/vnd.jupyter.widget-view+json": {
       "model_id": "47e26647664c4add980ffbc07a0809eb",
       "version_major": 2,
       "version_minor": 0
      },
      "text/plain": [
       "Loading checkpoint shards:   0%|          | 0/2 [00:00<?, ?it/s]"
      ]
     },
     "metadata": {},
     "output_type": "display_data"
    },
    {
     "data": {
      "application/vnd.jupyter.widget-view+json": {
       "model_id": "62803fcfd944455d92601df8b60185f2",
       "version_major": 2,
       "version_minor": 0
      },
      "text/plain": [
       "Map:   0%|          | 0/3729 [00:00<?, ? examples/s]"
      ]
     },
     "metadata": {},
     "output_type": "display_data"
    },
    {
     "name": "stderr",
     "output_type": "stream",
     "text": [
      "/root/miniconda3/lib/python3.12/site-packages/trl/trainer/sft_trainer.py:300: UserWarning: You passed a processing_class with `padding_side` not equal to `right` to the SFTTrainer. This might lead to some unexpected behaviour due to overflow issues when training a model in half-precision. You might consider adding `processing_class.padding_side = 'right'` to your code.\n",
      "  warnings.warn(\n"
     ]
    }
   ],
   "source": [
    "import torch\n",
    "from transformers import AutoModelForCausalLM, AutoTokenizer, TrainingArguments, DataCollatorForSeq2Seq\n",
    "from peft import LoraConfig, get_peft_model\n",
    "from trl import SFTTrainer\n",
    "import pandas as pd\n",
    "from datasets import Dataset\n"
   ]
  },
  {
   "cell_type": "code",
   "execution_count": null,
   "metadata": {},
   "outputs": [],
   "source": [
    "\n",
    "# 定义模型名称\n",
    "model_name = \"/root/autodl-tmp/deepseek-r1-distill-llama-8b\"  # 修改为可用的模型名称\n",
    "\n",
    "# Tokenizer\n",
    "tokenizer = AutoTokenizer.from_pretrained(model_name, use_fast=False, trust_remote_code=True)\n",
    "tokenizer.pad_token = tokenizer.eos_token\n",
    "tokenizer.pad_token_id = tokenizer.eos_token_id\n",
    "tokenizer.padding_side = 'right'  # 确保 padding_side 为 'right'\n",
    "\n",
    "# 加载模型\n",
    "model = AutoModelForCausalLM.from_pretrained(\n",
    "    model_name,\n",
    "    device_map={\"\": 0},  # 将模型加载到第一个 GPU\n",
    "    trust_remote_code=True  # 确保加载自定义代码\n",
    ")\n",
    "\n",
    "# LoRA配置\n",
    "lora_config = LoraConfig(\n",
    "    task_type=\"CAUSAL_LM\",  # 微调模型为自回归模型\n",
    "    r=16,  # LoRA 低秩分解的秩\n",
    "    lora_alpha=32,  # LoRA 缩放因子\n",
    "    target_modules=[\"q_proj\", \"v_proj\"],  # 目标模块，根据LLaMA3模型结构指定\n",
    "    lora_dropout=0.05,  # Dropout 概率\n",
    "    bias=\"none\",  # 不训练 bias\n",
    "    init_lora_weights=True,  # 初始化 LoRA 层权重\n",
    "    inference_mode=False  # 允许训练\n",
    ")\n",
    "\n",
    "# 将LoRA配置应用到模型\n",
    "model = get_peft_model(model, lora_config)\n",
    "\n",
    "# 定义训练参数\n",
    "training_arguments = TrainingArguments(\n",
    "    output_dir=\"./Llama3_8b_LoRA\",\n",
    "    eval_strategy=\"no\",  # 禁用评估\n",
    "    optim=\"paged_adamw_8bit\",\n",
    "    per_device_train_batch_size=2,\n",
    "    gradient_accumulation_steps=4,\n",
    "    per_device_eval_batch_size=8,\n",
    "    log_level=\"debug\",\n",
    "    save_strategy=\"epoch\",\n",
    "    logging_steps=100,\n",
    "    learning_rate=1e-4,\n",
    "    fp16=False,  # 根据硬件支持选择\n",
    "    bf16=False,  # 根据硬件支持选择\n",
    "    num_train_epochs=3,\n",
    "    warmup_ratio=0.1,\n",
    "    lr_scheduler_type=\"linear\",\n",
    ")\n",
    "\n",
    "# 数据预处理\n",
    "def process_func(example):\n",
    "    MAX_LENGTH = 384\n",
    "    input_ids, attention_mask, labels = [], [], []\n",
    "    instruction = tokenizer(f\"User: {example['instruction']} {example['input']}\\n\\n\", add_special_tokens=False)\n",
    "    response = tokenizer(f\"Assistant: {example['output']}{tokenizer.eos_token}\", add_special_tokens=False)\n",
    "    input_ids = instruction[\"input_ids\"] + response[\"input_ids\"]\n",
    "    attention_mask = instruction[\"attention_mask\"] + response[\"attention_mask\"]\n",
    "    labels = [-100] * len(instruction[\"input_ids\"]) + response[\"input_ids\"]\n",
    "    if len(input_ids) > MAX_LENGTH:  # 截断\n",
    "        input_ids = input_ids[:MAX_LENGTH]\n",
    "        attention_mask = attention_mask[:MAX_LENGTH]\n",
    "        labels = labels[:MAX_LENGTH]\n",
    "    return {\n",
    "        \"input_ids\": input_ids,\n",
    "        \"attention_mask\": attention_mask,\n",
    "        \"labels\": labels\n",
    "    }\n",
    "\n",
    "# 加载数据\n",
    "df = pd.read_json('./huanhuan.json')\n",
    "ds = Dataset.from_pandas(df)\n",
    "tokenized_id = ds.map(process_func, remove_columns=ds.column_names)\n",
    "\n",
    "# 创建训练器\n",
    "trainer = SFTTrainer(\n",
    "    model=model,\n",
    "    args=training_arguments,\n",
    "    train_dataset=tokenized_id,\n",
    "    data_collator=DataCollatorForSeq2Seq(tokenizer=tokenizer, padding=True),\n",
    ")"
   ]
  },
  {
   "cell_type": "code",
   "execution_count": 2,
   "id": "b96566f9-f862-47ae-8c1c-9d570068507f",
   "metadata": {},
   "outputs": [
    {
     "name": "stderr",
     "output_type": "stream",
     "text": [
      "Setting `pad_token_id` to `eos_token_id`:None for open-end generation.\n"
     ]
    },
    {
     "name": "stdout",
     "output_type": "stream",
     "text": [
      "Answer before training:\n",
      "你是谁？是谁派你来的？你的任务是什么？\n",
      "\n",
      "你是谁？是谁派你来的？你的任务是什么？\n",
      "\n",
      "你是谁？是谁派你来的？你的任务是什么？\n",
      "\n",
      "你是谁？是谁派你来的？你的任务是什么？\n",
      "\n",
      "你是谁？是谁派你来的？你的任务是什么。\n",
      "\n",
      "你是谁？是谁派你来的？你的任务是什么。\n",
      "\n",
      "是。\n",
      "\n",
      "你是。\n",
      "\n",
      "是。\n",
      "\n",
      "是。\n",
      "\n",
      "是。\n",
      "\n",
      "是。\n",
      "\n",
      "是。\n",
      "\n",
      "是。\n",
      "\n",
      "是。\n",
      "\n",
      "是。\n",
      "\n",
      "是是是是是是是是是是是是是是是是是是是是 ..\n",
      "\n",
      "\n"
     ]
    }
   ],
   "source": [
    "# 使用训练前的模型回答问题\n",
    "def generate_response(model, tokenizer, prompt, max_length=128):\n",
    "    inputs = tokenizer(prompt, return_tensors=\"pt\").to(model.device)\n",
    "    outputs = model.generate(**inputs, max_length=max_length)\n",
    "    response = tokenizer.decode(outputs[0], skip_special_tokens=True)\n",
    "    return response\n",
    "\n",
    "# 示例问题\n",
    "# question = \"What is the capital of France?\"\n",
    "question = \"你是谁？\"\n",
    "print(\"Answer before training:\")\n",
    "print(generate_response(model, tokenizer, question))"
   ]
  },
  {
   "cell_type": "code",
   "execution_count": null,
   "id": "76e68a3a-2319-48c2-82e9-ec60fec06d3a",
   "metadata": {
    "scrolled": true
   },
   "outputs": [
    {
     "name": "stderr",
     "output_type": "stream",
     "text": [
      "Currently training with a batch size of: 2\n",
      "***** Running training *****\n",
      "  Num examples = 3,729\n",
      "  Num Epochs = 3\n",
      "  Instantaneous batch size per device = 2\n",
      "  Total train batch size (w. parallel, distributed & accumulation) = 8\n",
      "  Gradient Accumulation steps = 4\n",
      "  Total optimization steps = 1,398\n",
      "  Number of trainable parameters = 6,815,744\n"
     ]
    },
    {
     "data": {
      "text/html": [
       "\n",
       "    <div>\n",
       "      \n",
       "      <progress value='42' max='1398' style='width:300px; height:20px; vertical-align: middle;'></progress>\n",
       "      [  42/1398 00:33 < 18:45, 1.21 it/s, Epoch 0.09/3]\n",
       "    </div>\n",
       "    <table border=\"1\" class=\"dataframe\">\n",
       "  <thead>\n",
       " <tr style=\"text-align: left;\">\n",
       "      <th>Step</th>\n",
       "      <th>Training Loss</th>\n",
       "    </tr>\n",
       "  </thead>\n",
       "  <tbody>\n",
       "  </tbody>\n",
       "</table><p>"
      ],
      "text/plain": [
       "<IPython.core.display.HTML object>"
      ]
     },
     "metadata": {},
     "output_type": "display_data"
    }
   ],
   "source": [
    "# 开始训练\n",
    "trainer.train()\n",
    "# # 保存模型\n",
    "# trainer.save_model(\"./Llama3_8b_LoRA\")"
   ]
  },
  {
   "cell_type": "code",
   "execution_count": 18,
   "id": "47de516f-5f96-4577-8543-477b1f6eaaa2",
   "metadata": {},
   "outputs": [
    {
     "name": "stderr",
     "output_type": "stream",
     "text": [
      "Setting `pad_token_id` to `eos_token_id`:None for open-end generation.\n"
     ]
    },
    {
     "name": "stdout",
     "output_type": "stream",
     "text": [
      "Answer after training:\n",
      "你是谁？我是李清欢，家父是太医少卿，家父是太医少卿，家父是太医少卿。\n"
     ]
    }
   ],
   "source": [
    "# 使用训练后的模型回答问题\n",
    "def generate_response(model, tokenizer, prompt, max_length=128):\n",
    "    inputs = tokenizer(prompt, return_tensors=\"pt\").to(model.device)\n",
    "    outputs = model.generate(**inputs, max_length=max_length, eos_token_id=tokenizer.eos_token_id)\n",
    "    response = tokenizer.decode(outputs[0], skip_special_tokens=True)\n",
    "    return response\n",
    "\n",
    "question = \"你是谁？\"\n",
    "print(\"Answer after training:\")\n",
    "print(generate_response(model, tokenizer, question))"
   ]
  },
  {
   "cell_type": "code",
   "execution_count": null,
   "id": "a5c60c50-e242-43d1-b268-cac65d0e3ea6",
   "metadata": {},
   "outputs": [],
   "source": []
  }
 ],
 "metadata": {
  "kernelspec": {
   "display_name": "Python 3 (ipykernel)",
   "language": "python",
   "name": "python3"
  },
  "language_info": {
   "codemirror_mode": {
    "name": "ipython",
    "version": 3
   },
   "file_extension": ".py",
   "mimetype": "text/x-python",
   "name": "python",
   "nbconvert_exporter": "python",
   "pygments_lexer": "ipython3",
   "version": "3.12.3"
  }
 },
 "nbformat": 4,
 "nbformat_minor": 5
}
